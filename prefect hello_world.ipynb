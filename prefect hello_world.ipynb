{
 "cells": [
  {
   "cell_type": "markdown",
   "metadata": {},
   "source": [
    "# Prefect - workflow management system\n",
    "### common uses\n",
    "- define set of tasks\n",
    "- execute tasks (on schedule)\n",
    "- handle retries, logging"
   ]
  },
  {
   "cell_type": "code",
   "execution_count": 5,
   "metadata": {},
   "outputs": [],
   "source": [
    "# Imports and setup\n",
    "\n",
    "import prefect\n",
    "\n",
    "sourcef, targetf = \"values.csv\", \"newvalues.csv\"\n",
    "\n",
    "# define ETL tasks\n",
    "## Extract \n",
    "def extract(path):\n",
    "    with open(path, \"r\") as f:\n",
    "        txt = f.readline().strip()\n",
    "    data = [int(i) for i in txt.split(\",\")]\n",
    "    return data\n",
    "\n",
    "## Transform \n",
    "def transform(data):\n",
    "    newdata = [i+1 for i in data]\n",
    "    return newdata\n",
    "\n",
    "## Load\n",
    "def load(data, path):\n",
    "    import csv\n",
    "    with open(path, \"w\") as f:\n",
    "        writer = csv.writer(f)\n",
    "        writer.writerow(data)"
   ]
  },
  {
   "cell_type": "code",
   "execution_count": 6,
   "metadata": {},
   "outputs": [],
   "source": [
    "data = extract(sourcef)\n",
    "newdata = transform(data)\n",
    "load(newdata, targetf)"
   ]
  }
 ],
 "metadata": {
  "kernelspec": {
   "display_name": "Python 3",
   "language": "python",
   "name": "python3"
  },
  "language_info": {
   "codemirror_mode": {
    "name": "ipython",
    "version": 3
   },
   "file_extension": ".py",
   "mimetype": "text/x-python",
   "name": "python",
   "nbconvert_exporter": "python",
   "pygments_lexer": "ipython3",
   "version": "3.7.6"
  }
 },
 "nbformat": 4,
 "nbformat_minor": 4
}
